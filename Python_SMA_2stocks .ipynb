{
 "cells": [
  {
   "cell_type": "code",
   "execution_count": 36,
   "id": "76c5c37c",
   "metadata": {},
   "outputs": [],
   "source": [
    "#import google finance data from quandl\n",
    "import quandl\n",
    "import numpy as np\n",
    "import matplotlib.pyplot as plt\n",
    "%matplotlib inline \n",
    "plt.style.use('seaborn-whitegrid')\n",
    "import pandas as pd\n",
    "import yfinance as yf"
   ]
  },
  {
   "cell_type": "code",
   "execution_count": 7,
   "id": "b8521e5b",
   "metadata": {},
   "outputs": [
    {
     "name": "stdout",
     "output_type": "stream",
     "text": [
      "Collecting quandl\n",
      "  Using cached Quandl-3.7.0-py2.py3-none-any.whl (26 kB)\n",
      "Requirement already satisfied: python-dateutil in c:\\users\\ibast\\anaconda3\\lib\\site-packages (from quandl) (2.8.2)\n",
      "Requirement already satisfied: pandas>=0.14 in c:\\users\\ibast\\anaconda3\\lib\\site-packages (from quandl) (1.3.4)\n",
      "Requirement already satisfied: inflection>=0.3.1 in c:\\users\\ibast\\anaconda3\\lib\\site-packages (from quandl) (0.5.1)\n",
      "Requirement already satisfied: requests>=2.7.0 in c:\\users\\ibast\\anaconda3\\lib\\site-packages (from quandl) (2.26.0)\n",
      "Requirement already satisfied: more-itertools in c:\\users\\ibast\\anaconda3\\lib\\site-packages (from quandl) (8.10.0)\n",
      "Requirement already satisfied: numpy>=1.8 in c:\\users\\ibast\\anaconda3\\lib\\site-packages (from quandl) (1.20.3)\n",
      "Requirement already satisfied: six in c:\\users\\ibast\\anaconda3\\lib\\site-packages (from quandl) (1.16.0)\n",
      "Requirement already satisfied: pytz>=2017.3 in c:\\users\\ibast\\anaconda3\\lib\\site-packages (from pandas>=0.14->quandl) (2021.3)\n",
      "Requirement already satisfied: charset-normalizer~=2.0.0 in c:\\users\\ibast\\anaconda3\\lib\\site-packages (from requests>=2.7.0->quandl) (2.0.4)\n",
      "Requirement already satisfied: certifi>=2017.4.17 in c:\\users\\ibast\\anaconda3\\lib\\site-packages (from requests>=2.7.0->quandl) (2021.10.8)\n",
      "Requirement already satisfied: urllib3<1.27,>=1.21.1 in c:\\users\\ibast\\anaconda3\\lib\\site-packages (from requests>=2.7.0->quandl) (1.26.7)\n",
      "Requirement already satisfied: idna<4,>=2.5 in c:\\users\\ibast\\anaconda3\\lib\\site-packages (from requests>=2.7.0->quandl) (3.2)\n",
      "Installing collected packages: quandl\n",
      "Successfully installed quandl-3.7.0\n",
      "Note: you may need to restart the kernel to use updated packages.\n"
     ]
    }
   ],
   "source": [
    "pip install quandl\n"
   ]
  },
  {
   "cell_type": "code",
   "execution_count": 22,
   "id": "460f43f9",
   "metadata": {},
   "outputs": [
    {
     "name": "stdout",
     "output_type": "stream",
     "text": [
      "[*********************100%***********************]  1 of 1 completed\n",
      "[*********************100%***********************]  1 of 1 completed\n"
     ]
    }
   ],
   "source": [
    "#call a matrix of all the data for Apple and Google stocks\n",
    "aaplall = yf.download(\"AAPL\", start_date=\"2015-01-01\", end_date=\"2020-01-01\")\n",
    "\n",
    "tslaall = yf.download(\"TSLA\", start_date=\"2015-01-01\", end_date=\"2020-01-01\")"
   ]
  },
  {
   "cell_type": "code",
   "execution_count": 24,
   "id": "6e6bd4c1",
   "metadata": {},
   "outputs": [
    {
     "data": {
      "text/html": [
       "<div>\n",
       "<style scoped>\n",
       "    .dataframe tbody tr th:only-of-type {\n",
       "        vertical-align: middle;\n",
       "    }\n",
       "\n",
       "    .dataframe tbody tr th {\n",
       "        vertical-align: top;\n",
       "    }\n",
       "\n",
       "    .dataframe thead th {\n",
       "        text-align: right;\n",
       "    }\n",
       "</style>\n",
       "<table border=\"1\" class=\"dataframe\">\n",
       "  <thead>\n",
       "    <tr style=\"text-align: right;\">\n",
       "      <th></th>\n",
       "      <th>Open</th>\n",
       "      <th>High</th>\n",
       "      <th>Low</th>\n",
       "      <th>Close</th>\n",
       "      <th>Adj Close</th>\n",
       "      <th>Volume</th>\n",
       "    </tr>\n",
       "    <tr>\n",
       "      <th>Date</th>\n",
       "      <th></th>\n",
       "      <th></th>\n",
       "      <th></th>\n",
       "      <th></th>\n",
       "      <th></th>\n",
       "      <th></th>\n",
       "    </tr>\n",
       "  </thead>\n",
       "  <tbody>\n",
       "    <tr>\n",
       "      <th>2010-06-29</th>\n",
       "      <td>3.800</td>\n",
       "      <td>5.000</td>\n",
       "      <td>3.508</td>\n",
       "      <td>4.778</td>\n",
       "      <td>4.778</td>\n",
       "      <td>93831500</td>\n",
       "    </tr>\n",
       "    <tr>\n",
       "      <th>2010-06-30</th>\n",
       "      <td>5.158</td>\n",
       "      <td>6.084</td>\n",
       "      <td>4.660</td>\n",
       "      <td>4.766</td>\n",
       "      <td>4.766</td>\n",
       "      <td>85935500</td>\n",
       "    </tr>\n",
       "    <tr>\n",
       "      <th>2010-07-01</th>\n",
       "      <td>5.000</td>\n",
       "      <td>5.184</td>\n",
       "      <td>4.054</td>\n",
       "      <td>4.392</td>\n",
       "      <td>4.392</td>\n",
       "      <td>41094000</td>\n",
       "    </tr>\n",
       "    <tr>\n",
       "      <th>2010-07-02</th>\n",
       "      <td>4.600</td>\n",
       "      <td>4.620</td>\n",
       "      <td>3.742</td>\n",
       "      <td>3.840</td>\n",
       "      <td>3.840</td>\n",
       "      <td>25699000</td>\n",
       "    </tr>\n",
       "    <tr>\n",
       "      <th>2010-07-06</th>\n",
       "      <td>4.000</td>\n",
       "      <td>4.000</td>\n",
       "      <td>3.166</td>\n",
       "      <td>3.222</td>\n",
       "      <td>3.222</td>\n",
       "      <td>34334500</td>\n",
       "    </tr>\n",
       "  </tbody>\n",
       "</table>\n",
       "</div>"
      ],
      "text/plain": [
       "             Open   High    Low  Close  Adj Close    Volume\n",
       "Date                                                       \n",
       "2010-06-29  3.800  5.000  3.508  4.778      4.778  93831500\n",
       "2010-06-30  5.158  6.084  4.660  4.766      4.766  85935500\n",
       "2010-07-01  5.000  5.184  4.054  4.392      4.392  41094000\n",
       "2010-07-02  4.600  4.620  3.742  3.840      3.840  25699000\n",
       "2010-07-06  4.000  4.000  3.166  3.222      3.222  34334500"
      ]
     },
     "execution_count": 24,
     "metadata": {},
     "output_type": "execute_result"
    }
   ],
   "source": [
    "#create the vector for prices at CLOSE\n",
    "aapl = aaplall[\"Close\"]\n",
    "tsla = tslaall[\"Close\"]\n",
    "aaplall.head(5)\n",
    "tslaall.head(5)"
   ]
  },
  {
   "cell_type": "code",
   "execution_count": 25,
   "id": "edc5dbf2",
   "metadata": {},
   "outputs": [],
   "source": [
    "#calculate the simple moving average for a short period\n",
    "short_sma_aapl = aapl.rolling(window=20).mean()\n",
    "#calculate the simple moving average for a long period\n",
    "long_sma_aapl = aapl.rolling(window=100).mean()"
   ]
  },
  {
   "cell_type": "code",
   "execution_count": 26,
   "id": "5e04c5a5",
   "metadata": {},
   "outputs": [],
   "source": [
    "#sma for tesla as well\n",
    "short_sma_tsla = tsla.rolling(window=20).mean()\n",
    "long_sma_tsla = tsla.rolling(window=100).mean()"
   ]
  },
  {
   "cell_type": "code",
   "execution_count": null,
   "id": "7890b0b8",
   "metadata": {},
   "outputs": [],
   "source": [
    "#Crossover Trading Strategy (using two SMA):\n",
    "# when the shorter-term MA crosses above the longer-term MA, it is a BUY signal\n",
    "# when the longer-term MA crosses above the shorter-term MA, it is a SELL signal"
   ]
  },
  {
   "cell_type": "code",
   "execution_count": 37,
   "id": "33be5064",
   "metadata": {},
   "outputs": [],
   "source": [
    "#Create Signal for Apple\n",
    "signals1 = pd.DataFrame(index=aaplall.index)\n",
    "signals1['signal'] = 0.0\n",
    "signals1['signal'][20:] = np.where(short_sma_aapl[20:] > long_sma_aapl[20:], 1.0, 0.0)\n",
    "signals1['positions'] = signals1['signal'].diff()\n"
   ]
  },
  {
   "cell_type": "code",
   "execution_count": 28,
   "id": "21ac075d",
   "metadata": {},
   "outputs": [],
   "source": [
    "#Create Signal for Tesla\n",
    "signals2 = pd.DataFrame(index=tslaall.index)\n",
    "signals2['signal'] = 0.0\n",
    "signals2['signal'][20:] = np.where(short_sma_tsla[20:]>long_sma_tsla[20:], 1.0, 0.0)\n",
    "signals2['positions'] = signals2['signal'].diff()"
   ]
  },
  {
   "cell_type": "code",
   "execution_count": 38,
   "id": "a0d444fe",
   "metadata": {},
   "outputs": [
    {
     "data": {
      "image/png": "[encoded data removed]",
      "text/plain": [
       "<Figure size 864x432 with 1 Axes>"
      ]
     },
     "metadata": {},
     "output_type": "display_data"
    }
   ],
   "source": [
    "#create a plot of the data\n",
    "fig, ax = plt.subplots(figsize=(12,6))"
   ]
  },
  {
   "cell_type": "code",
   "execution_count": 39,
   "id": "41aaee07",
   "metadata": {},
   "outputs": [
    {
     "data": {
      "text/plain": [
       "[<matplotlib.lines.Line2D at 0x2572ca3d490>]"
      ]
     },
     "execution_count": 39,
     "metadata": {},
     "output_type": "execute_result"
    }
   ],
   "source": [
    "#plot apple data\n",
    "ax.plot(aapl.index, aapl, label='AAPL')\n",
    "ax.plot(short_sma_aapl.index, short_sma_aapl, label='20 days SMA')\n",
    "ax.plot(long_sma_aapl.index, long_sma_aapl, label='100 days SMA')\n"
   ]
  },
  {
   "cell_type": "code",
   "execution_count": 30,
   "id": "438d72dd",
   "metadata": {},
   "outputs": [
    {
     "data": {
      "text/plain": [
       "[<matplotlib.lines.Line2D at 0x2572e07b700>]"
      ]
     },
     "execution_count": 30,
     "metadata": {},
     "output_type": "execute_result"
    }
   ],
   "source": [
    "#plot tesla data\n",
    "ax.plot(tsla.index, tsla, label='TSLA')\n",
    "ax.plot(short_sma_tsla.index, short_sma_tsla, label='20 days SMA')\n",
    "ax.plot(long_sma_tsla.index, long_sma_tsla, label='100 days SMA')\n"
   ]
  },
  {
   "cell_type": "code",
   "execution_count": 31,
   "id": "c1c9abff",
   "metadata": {},
   "outputs": [
    {
     "data": {
      "text/plain": [
       "[<matplotlib.lines.Line2D at 0x2572e06b280>]"
      ]
     },
     "execution_count": 31,
     "metadata": {},
     "output_type": "execute_result"
    }
   ],
   "source": [
    "#Plot the Buy Signals\n",
    "ax.plot(signals1.loc[signals1.positions == 1.0].index,\n",
    "        short_sma_aapl[signals1.positions == 1.0],\n",
    "        '^', markersize=15,color='g')\n",
    "ax.plot(signals2.loc[signals2.positions == 1.0].index,\n",
    "        short_sma_tsla[signals2.positions == 1.0],\n",
    "        '^', markersize=15,color='g')"
   ]
  },
  {
   "cell_type": "code",
   "execution_count": 32,
   "id": "969c73da",
   "metadata": {},
   "outputs": [
    {
     "data": {
      "text/plain": [
       "[<matplotlib.lines.Line2D at 0x2572e07bc40>]"
      ]
     },
     "execution_count": 32,
     "metadata": {},
     "output_type": "execute_result"
    }
   ],
   "source": [
    "#Plot the Sell Signals\n",
    "ax.plot(signals1.loc[signals1.positions == -1.0].index,\n",
    "        short_sma_aapl[signals1.positions == -1.0],\n",
    "        'v', markersize=15,color='r')\n",
    "ax.plot(signals2.loc[signals2.positions == -1.0].index,\n",
    "        short_sma_tsla[signals2.positions == -1.0],\n",
    "        'v', markersize=15,color='r')"
   ]
  },
  {
   "cell_type": "code",
   "execution_count": 34,
   "id": "ed1870fc",
   "metadata": {},
   "outputs": [
    {
     "data": {
      "text/plain": [
       "<matplotlib.legend.Legend at 0x2572c9d63d0>"
      ]
     },
     "execution_count": 34,
     "metadata": {},
     "output_type": "execute_result"
    }
   ],
   "source": [
    "#label the graph\n",
    "ax.set_xlabel('Date')\n",
    "ax.set_ylabel('Closing Price ($)')\n",
    "ax.legend()"
   ]
  },
  {
   "cell_type": "code",
   "execution_count": 33,
   "id": "9ac6b48a",
   "metadata": {},
   "outputs": [],
   "source": [
    "#show the graph\n",
    "plt.show()"
   ]
  },
  {
   "cell_type": "code",
   "execution_count": null,
   "id": "dbb8e1a0",
   "metadata": {},
   "outputs": [],
   "source": []
  }
 ],
 "metadata": {
  "kernelspec": {
   "display_name": "Python 3 (ipykernel)",
   "language": "python",
   "name": "python3"
  },
  "language_info": {
   "codemirror_mode": {
    "name": "ipython",
    "version": 3
   },
   "file_extension": ".py",
   "mimetype": "text/x-python",
   "name": "python",
   "nbconvert_exporter": "python",
   "pygments_lexer": "ipython3",
   "version": "3.9.7"
  }
 },
 "nbformat": 4,
 "nbformat_minor": 5
}
